{
 "cells": [
  {
   "cell_type": "markdown",
   "metadata": {},
   "source": [
    "### Setting notebook and connecting data\n",
    "Importing all necessary packeges "
   ]
  },
  {
   "cell_type": "code",
   "execution_count": null,
   "metadata": {},
   "outputs": [],
   "source": [
    "import numpy as np\n",
    "import pandas as pd\n",
    "import geopandas as gpd\n",
    "import matplotlib.pyplot as plt\n",
    "import plotly.express as px\n",
    "import plotly.graph_objects as go\n",
    "import os\n",
    "import json"
   ]
  },
  {
   "cell_type": "markdown",
   "metadata": {},
   "source": [
    "Connecting all files "
   ]
  },
  {
   "cell_type": "code",
   "execution_count": null,
   "metadata": {},
   "outputs": [],
   "source": [
    "housing_400 = pd.read_csv(\"../data/Housing_400m_2014_2021.csv\", encoding='latin-1')\n",
    "housing_500 = pd.read_csv(\"../data/Housing_500m_2014_2021.csv\", encoding='latin-1')\n",
    "housing_1000 = pd.read_csv(\"../data/Housing_1000m_2014_2021.csv\", encoding='latin-1')\n",
    "housing_2000 = pd.read_csv(\"../data/Housing_2000m_2014_2021.csv\", encoding='latin-1')\n",
    "housing_total = pd.read_csv(\"../data/Housing_total_2014_2021.csv\", encoding='latin-1')\n",
    "\n",
    "income = pd.read_csv(\"../data/Income_median_2014_2021.csv\", encoding='latin-1')"
   ]
  },
  {
   "cell_type": "markdown",
   "metadata": {},
   "source": [
    "### Data cleaning and transformation\n",
    "Removing first two columns (1 and 2) from all tabels that contains repetitive information.\n",
    "\n",
    "Subtracting households from each other to ensure each household is calculated once."
   ]
  },
  {
   "cell_type": "code",
   "execution_count": null,
   "metadata": {},
   "outputs": [],
   "source": [
    "# Creating loop for all DataFrames\n",
    "dataframes = [housing_400, housing_500, housing_1000, housing_2000, housing_total]\n",
    "\n",
    "for df in dataframes:\n",
    "    df.drop(df.columns[1:3], axis=1, inplace=True)\n",
    "\n",
    "for df in dataframes:\n",
    "    df.set_index('region', inplace = True)\n",
    "\n",
    "# Substract household from each other to make sure each household is  calcualted once\n",
    "housing_500_new = housing_500 - housing_400\n",
    "housing_1000_new = housing_1000 - housing_500\n",
    "housing_2000_new = housing_2000 - housing_1000\n",
    "no_connection = housing_total - housing_2000"
   ]
  },
  {
   "cell_type": "markdown",
   "metadata": {},
   "source": [
    "#### Calculating Weighted Conectivity Score\n",
    "Conectivity Score was calucated giving higher weight to houses that are closer to public transportation."
   ]
  },
  {
   "cell_type": "code",
   "execution_count": null,
   "metadata": {},
   "outputs": [],
   "source": [
    "# Define weights for each distance range\n",
    "\n",
    "weights = {\n",
    "    '400m': 1.0,\n",
    "    '500m': 0.8,\n",
    "    '1000m': 0.6,\n",
    "    '2000m': 0.4,\n",
    "    'more_2000m': 0.2\n",
    "}\n",
    "\n",
    "# Maps each weight key to the corresponding dataframe\n",
    "dataframes = {\n",
    "    '400m': housing_400,\n",
    "    '500m': housing_500_new,\n",
    "    '1000m': housing_1000_new,\n",
    "    '2000m': housing_2000_new,\n",
    "    'more_2000m': no_connection\n",
    "}\n",
    "\n",
    "#Multiply all values in DataFrames with corresponding weights\n",
    "for key, value in weights.items():\n",
    "    df = dataframes[key]\n",
    "    new_df = df.mul(value)\n",
    "    globals()[f'new_{key}'] = new_df\n",
    "\n",
    "# Sum the dataframes along the columns axis\n",
    "total_score = new_400m + new_500m + new_1000m + new_2000m + new_more_2000m\n",
    "\n",
    "log_score = np.log(total_score)\n",
    "#print(log_score)\n",
    "\n",
    "\n",
    "# Normalazied score \n",
    "normal_score = (log_score - log_score.min()) / (log_score.max() - log_score.min())\n",
    "normal_score = normal_score.reset_index()\n",
    "\n",
    "# Creating \"id\" column from first 4 numbers in \"region\" column to match the structure of GeoJson file\n",
    "normal_score['id'] = normal_score['region'].str[:4]\n",
    "normal_score['region'] = normal_score['region'].str[4:]\n",
    "#print(normal_score)"
   ]
  },
  {
   "cell_type": "markdown",
   "metadata": {},
   "source": [
    "To correctly access data in the graph, the DataFrame containing connectivity scores was melted to transform columns into rows, the 'year' column was converted to a numeric type for accuracy, and the DataFrame was pivoted to its original structure."
   ]
  },
  {
   "cell_type": "code",
   "execution_count": null,
   "metadata": {},
   "outputs": [],
   "source": [
    "# Melt the DataFrame to transform columns into rows\n",
    "melted_score = pd.melt(normal_score, id_vars=['id', 'region'], var_name='year', value_name='score')\n",
    "\n",
    "# Convert 'year' column to numeric type\n",
    "melted_score['year'] = pd.to_numeric(melted_score['year'], errors='coerce')\n",
    "\n",
    "# Pivot the DataFrame\n",
    "pivot_score = melted_score.pivot_table(index=['id', 'region', 'year'], columns=None, values='score').reset_index()"
   ]
  },
  {
   "cell_type": "markdown",
   "metadata": {},
   "source": [
    "Conecting GeoJson file with georaphicall data for all municipalities in Sweden"
   ]
  },
  {
   "cell_type": "code",
   "execution_count": null,
   "metadata": {},
   "outputs": [],
   "source": [
    "# importing Geojson file \n",
    "geo_map = gpd.read_file('../data/swedish_municipalities.geojson')\n",
    "\n",
    "# merging score data with Geojson\n",
    "merged_score=geo_map.merge(pivot_score,on=\"id\")"
   ]
  },
  {
   "cell_type": "markdown",
   "metadata": {},
   "source": [
    "### Data Vizualization\n",
    "**Public Transportation Accessibility Map**\\\n",
    "Creating Choropleth Map illustrating the connectivity scores of all municipalities over the years 2014-2021."
   ]
  },
  {
   "cell_type": "code",
   "execution_count": null,
   "metadata": {},
   "outputs": [],
   "source": [
    "\n",
    "fig = px.choropleth_mapbox(\n",
    "    merged_score,\n",
    "    geojson=merged_score.geometry,\n",
    "    locations=merged_score.index,\n",
    "    color=\"score\",  \n",
    "    hover_name=\"region\", \n",
    "    mapbox_style=\"carto-positron\",\n",
    "    zoom=3.7,\n",
    "    center={\"lat\": 63.0, \"lon\": 17.30},\n",
    "    opacity=0.7,\n",
    "    animation_frame='year',\n",
    "    color_continuous_scale= ['#2133ff', '#cecbd2', '#ea2700'],\n",
    "    width=600,\n",
    "    height=800\n",
    ")\n",
    "# Adding title and subtitle\n",
    "fig.update_layout(title_text=\"Public Transportation Accessibility in Sweden\",\n",
    "                title_font_size=16,\n",
    "                title_x=0.05,  \n",
    "                title_y=0.97,\n",
    "\n",
    "                annotations=[\n",
    "                dict(text=\"For years 2014-2021\",\n",
    "                    xref=\"paper\", yref=\"paper\",\n",
    "                    x=-0.122, y=1.03,  \n",
    "                    showarrow=False,\n",
    "                    )])\n",
    "# Change lines\n",
    "fig = fig.update_traces(\n",
    "    marker_line_width=0.3, marker_line_color = 'white')\n",
    "\n",
    "# Show the map\n",
    "fig.show()\n"
   ]
  },
  {
   "cell_type": "markdown",
   "metadata": {},
   "source": [
    "**Median Connectivity Score Over 2014-2021**\\\n",
    "Line graph  displays the fluctuations in the median connectivity score across all years from 2014 to 2021."
   ]
  },
  {
   "cell_type": "code",
   "execution_count": null,
   "metadata": {},
   "outputs": [],
   "source": [
    "# Calculating median score value over year from DataFrame\n",
    "average_scores = pivot_score.groupby('year')['score'].median().reset_index()\n",
    "#print(average_scores)\n",
    "\n",
    "# Create line graph\n",
    "fig = px.line(data_frame = average_scores,\n",
    "                x='year', y= 'score',\n",
    "                title='Median conectivity score over years',\n",
    "                markers= True,\n",
    "                color_discrete_sequence=['#2133ff'],\n",
    "                template='plotly_white'\n",
    "                )\n",
    "\n",
    "# Adjusting layout\n",
    "fig.update_layout(xaxis=dict(showgrid=False),\n",
    "                yaxis=dict(showgrid=False),\n",
    "                yaxis_range=[0.34, 0.38]\n",
    "              )\n",
    "\n",
    "# Adding xaxis line\n",
    "fig.update_xaxes(showline=True, linewidth=1, linecolor='lightgrey')\n",
    "\n",
    "fig.show()"
   ]
  },
  {
   "cell_type": "markdown",
   "metadata": {},
   "source": [
    "**Public Transport Accessibility vs. Income**\\\n",
    "Scatterplot illustrates the correlation between income levels and access to public transportation across municipalities from 2014 to 2021."
   ]
  },
  {
   "cell_type": "code",
   "execution_count": null,
   "metadata": {},
   "outputs": [],
   "source": [
    "# Removing unnecessary columns from income DataFrame\n",
    "income =  income.drop(income.columns[1:4], axis=1)\n",
    "\n",
    "# Creating \"id\" column from first 4 numbers in \"region\" column to match the structure of GeoJson file\n",
    "income['id'] = income['region'].str[:4]\n",
    "income['region'] = income['region'].str[4:]\n",
    "\n",
    "# Melt the DataFrame to transform columns into rows\n",
    "melted_income = pd.melt(income, id_vars=['id', 'region'], var_name='year', value_name='income')\n",
    "\n",
    "# Convert 'year' column to numeric type\n",
    "melted_income['year'] = pd.to_numeric(melted_income['year'], errors='coerce')\n",
    "\n",
    "# Pivot the DataFrame\n",
    "pivot_income = melted_income.pivot_table(index=['id', 'region', 'year'], columns=None, values='income').reset_index()\n",
    "#print(pivot_income)"
   ]
  },
  {
   "cell_type": "code",
   "execution_count": null,
   "metadata": {},
   "outputs": [],
   "source": [
    "# Merge income and score data\n",
    "merge_income = pd.merge(pivot_income, pivot_score, on = ['id', 'region', 'year'])\n",
    "\n",
    "# Creating scatterplot with income and conectivity score\n",
    "fig = px.scatter( data_frame = merge_income,\n",
    "                x= 'income', y='score',  \n",
    "                animation_frame='year',\n",
    "                title=\"Public Transport Accessibility vs. Income\",\n",
    "                hover_name=\"region\",\n",
    "                color='score',\n",
    "                color_continuous_scale=['#2133ff', '#cecbd2', '#ea2700'],\n",
    "                template='plotly_white')\n",
    "\n",
    "fig.update_xaxes(range=[180, 420])\n",
    "\n",
    "fig.show()"
   ]
  },
  {
   "cell_type": "markdown",
   "metadata": {},
   "source": [
    "**Connectivity Score Changes from 2014 to 2021**\\\n",
    "Bar chart showing diffrences in connectivity score between 2014-2021 for each municipality"
   ]
  },
  {
   "cell_type": "code",
   "execution_count": null,
   "metadata": {},
   "outputs": [],
   "source": [
    "# Copying only needed colums for calucaling differance\n",
    "normal_score_growth = normal_score[['id', 'region', '2014', '2021']].copy()\n",
    "\n",
    "# Substructing score form 2021 with the score from 2014\n",
    "normal_score_growth['score_change'] = normal_score_growth['2021'] - normal_score_growth['2014']\n",
    "\n",
    "# creating histogram with score for each municipality\n",
    "fig = px.bar(data_frame = normal_score_growth,\n",
    "            x='region',\n",
    "            y='score_change',\n",
    "            title= 'Conectivity Score Changes from 2014 to 2021',\n",
    "            template='plotly_white',\n",
    "            color= normal_score_growth['score_change'] > 0,  # Condition for positive values\n",
    "            color_discrete_map={True: '#2133ff', False: '#ea2700'},\n",
    "            category_orders={'region': sorted(normal_score_growth['region'].unique(), reverse=True)},\n",
    ")\n",
    "\n",
    "# Removing 'color' from tooltip and legend\n",
    "fig.update_traces(hovertemplate='region: %{x} <br>score: %{y}')\n",
    "fig.update_layout(showlegend=False)\n",
    "\n",
    "fig.update_yaxes(title=\"Score change\")\n",
    "\n",
    "fig.show()"
   ]
  },
  {
   "cell_type": "markdown",
   "metadata": {},
   "source": [
    "**Total Number of Households Across Distances (2014-2021)**\\\n",
    "Line chart illustrates the fluctuation in household numbers across various distances. Given that households within a 400m radius constitute the vast majority, they have been excluded to highlight differences more effectively among other distance groups."
   ]
  },
  {
   "cell_type": "code",
   "execution_count": null,
   "metadata": {},
   "outputs": [],
   "source": [
    "#Calcualting sum of households for each distance\n",
    "house_400m = housing_400.sum().rename_axis(['year']).reset_index(name='400m')\n",
    "house_500m = housing_500_new.sum().rename_axis(['year']).reset_index(name='500m')\n",
    "house_1000m = housing_1000_new.sum().rename_axis(['year']).reset_index(name='1000m')\n",
    "house_2000m = housing_2000_new.sum().rename_axis(['year']).reset_index(name='2000m')\n",
    "house_no = no_connection.sum().rename_axis(['year']).reset_index(name='>2000m')\n",
    "\n",
    "#Joining all DataFrames, settign index for column 'year'\n",
    "joined_house = pd.concat([house_400m.set_index('year'), house_500m.set_index('year'), house_1000m.set_index('year'), house_2000m.set_index('year'), house_no.set_index('year')], axis=1)\n",
    "\n",
    "joined_house.reset_index(inplace=True)\n",
    "#print(joined_house)"
   ]
  },
  {
   "cell_type": "code",
   "execution_count": null,
   "metadata": {},
   "outputs": [],
   "source": [
    "#Creating chart for number of houses in each distance over years\n",
    "\n",
    "fig = px.line(joined_house,\n",
    "             x='year',\n",
    "             y=[\"500m\", \"1000m\", \"2000m\", \">2000m\"],\n",
    "             markers= True,\n",
    "             template='plotly_white',\n",
    "             color_discrete_sequence=[\"#ea2700\", \"#eb866d\", \"#997feb\", \"#2133ff\"]\n",
    "            )\n",
    "\n",
    "# Adding title and subtitle\n",
    "fig.update_layout(title_text=\"Total Number of Households Across Distances (2014-2021)\",\n",
    "                title_font_size=16,\n",
    "                title_x=0.05,  \n",
    "                title_y=0.97,\n",
    "                \n",
    "                annotations=[\n",
    "                dict(text=\"Excudling 400m distance\",\n",
    "                    xref=\"paper\", yref=\"paper\",\n",
    "                    x=-0.05, y=1.1,  \n",
    "                    showarrow=False,\n",
    "                    )])\n",
    "\n",
    "# Change title to legend\n",
    "fig.update_layout(legend_title=\"Distance\")\n",
    "\n",
    "# Adjusting layout\n",
    "fig.update_layout(xaxis=dict(showgrid=False),\n",
    "                yaxis=dict(showgrid=False)\n",
    "              )\n",
    "\n",
    "# Adding xaxis line\n",
    "fig.update_xaxes(showline=True, linewidth=1, linecolor='lightgrey')\n",
    "\n",
    "fig.update_yaxes(title=\"Number of households\")\n",
    "\n",
    "fig.show()"
   ]
  }
 ],
 "metadata": {
  "kernelspec": {
   "display_name": "Python 3",
   "language": "python",
   "name": "python3"
  },
  "language_info": {
   "codemirror_mode": {
    "name": "ipython",
    "version": 3
   },
   "file_extension": ".py",
   "mimetype": "text/x-python",
   "name": "python",
   "nbconvert_exporter": "python",
   "pygments_lexer": "ipython3",
   "version": "3.12.2"
  }
 },
 "nbformat": 4,
 "nbformat_minor": 2
}
